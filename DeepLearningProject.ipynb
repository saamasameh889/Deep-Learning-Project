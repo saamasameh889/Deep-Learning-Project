{
  "nbformat": 4,
  "nbformat_minor": 0,
  "metadata": {
    "colab": {
      "provenance": []
    },
    "kernelspec": {
      "name": "python3",
      "display_name": "Python 3"
    },
    "language_info": {
      "name": "python"
    }
  },
  "cells": [
    {
      "cell_type": "markdown",
      "source": [
        "# Dataset Loading"
      ],
      "metadata": {
        "id": "ha6CLvvuasqd"
      }
    },
    {
      "cell_type": "code",
      "source": [
        "import pandas as pd\n",
        "import numpy as np\n",
        "import matplotlib.pyplot as plt\n",
        "import seaborn as sns\n",
        "from sklearn.preprocessing import MinMaxScaler , StandardScaler\n",
        "from sklearn.model_selection import train_test_split\n",
        "from sklearn.metrics import mean_absolute_error, classification_report\n",
        "import os\n",
        "import librosa\n",
        "import librosa.display\n",
        "import IPython.display as ipd\n",
        "import tensorflow as tf\n",
        "from tqdm import tqdm"
      ],
      "metadata": {
        "id": "tP0vg3uroQtr"
      },
      "execution_count": null,
      "outputs": []
    },
    {
      "cell_type": "code",
      "source": [
        "!pip install rarfile"
      ],
      "metadata": {
        "colab": {
          "base_uri": "https://localhost:8080/"
        },
        "id": "Ju0LsdsdHmxK",
        "outputId": "d4e7fbae-c252-40d2-c201-62310a8a8cf0"
      },
      "execution_count": null,
      "outputs": [
        {
          "output_type": "stream",
          "name": "stdout",
          "text": [
            "Requirement already satisfied: rarfile in /usr/local/lib/python3.11/dist-packages (4.2)\n"
          ]
        }
      ]
    },
    {
      "cell_type": "code",
      "source": [
        "import zipfile\n",
        "import rarfile\n",
        "import os\n"
      ],
      "metadata": {
        "id": "IQHt9S6Wf1MO"
      },
      "execution_count": null,
      "outputs": []
    },
    {
      "cell_type": "code",
      "source": [
        "import zipfile\n",
        "import os\n",
        "\n",
        "# Define the zip file path and the target extraction folder\n",
        "zip_path = \"Parkinson DATASET.zip\"\n",
        "extract_to = \"Parkinson DATASET\"\n",
        "\n",
        "# Extract all files\n",
        "with zipfile.ZipFile(zip_path, 'r') as zip_ref:\n",
        "    zip_ref.extractall(extract_to)\n",
        "\n",
        "# Walk through the directory and print all file paths\n",
        "print(\"Contents of the unzipped folder:\\n\")\n",
        "for root, dirs, files in os.walk(extract_to):\n",
        "    for file in files:\n",
        "        print(os.path.join(root, file))"
      ],
      "metadata": {
        "colab": {
          "base_uri": "https://localhost:8080/"
        },
        "id": "YnlASwiY2j-x",
        "outputId": "f2e723c7-9a94-4902-f356-e54995a9b05f"
      },
      "execution_count": null,
      "outputs": [
        {
          "output_type": "stream",
          "name": "stdout",
          "text": [
            "Contents of the unzipped folder:\n",
            "\n",
            "Parkinson DATASET/Parkinson_Multiple_Sound_Recording.rar\n",
            "Parkinson DATASET/Extracted/test_data.txt\n",
            "Parkinson DATASET/Extracted/train_data.txt\n"
          ]
        }
      ]
    },
    {
      "cell_type": "code",
      "source": [
        "import zipfile\n",
        "import rarfile\n",
        "import os\n",
        "\n",
        "# Step 1: Extract ZIP\n",
        "zip_path = \"Parkinson DATASET.zip\"\n",
        "extract_to = \"Parkinson DATASET\"\n",
        "\n",
        "with zipfile.ZipFile(zip_path, 'r') as zip_ref:\n",
        "    zip_ref.extractall(extract_to)\n",
        "\n",
        "print(\"ZIP Extracted. Now checking for RAR files...\")\n",
        "\n",
        "# Step 2: Extract RAR\n",
        "rar_path = os.path.join(extract_to, \"Parkinson_Multiple_Sound_Recording.rar\")\n",
        "rar_extract_to = os.path.join(extract_to, \"Extracted\")\n",
        "\n",
        "if os.path.exists(rar_path):\n",
        "    rf = rarfile.RarFile(rar_path)\n",
        "    rf.extractall(rar_extract_to)\n",
        "    print(f\"Extracted RAR to: {rar_extract_to}\")\n",
        "else:\n",
        "    print(\"RAR file not found!\")\n",
        "\n",
        "# Step 3: List extracted contents\n",
        "print(\"\\nContents of the fully extracted dataset:\\n\")\n",
        "for root, dirs, files in os.walk(rar_extract_to):\n",
        "    for file in files:\n",
        "        print(os.path.join(root, file))\n"
      ],
      "metadata": {
        "colab": {
          "base_uri": "https://localhost:8080/"
        },
        "id": "eiDL-Zd1HiBm",
        "outputId": "5e95717e-985a-4fda-8d6a-e1c1a4d8c297"
      },
      "execution_count": null,
      "outputs": [
        {
          "output_type": "stream",
          "name": "stdout",
          "text": [
            "ZIP Extracted. Now checking for RAR files...\n",
            "Extracted RAR to: Parkinson DATASET/Extracted\n",
            "\n",
            "Contents of the fully extracted dataset:\n",
            "\n",
            "Parkinson DATASET/Extracted/test_data.txt\n",
            "Parkinson DATASET/Extracted/train_data.txt\n"
          ]
        }
      ]
    },
    {
      "cell_type": "code",
      "source": [
        "print(\"\\n📁 Contents of the fully extracted dataset:\\n\")\n",
        "for root, dirs, files in os.walk(rar_extract_to):\n",
        "    for file in files:\n",
        "        print(os.path.join(root, file))\n"
      ],
      "metadata": {
        "id": "gB2ngssWgGJG",
        "outputId": "b62593c2-bb52-4d08-8b08-b05f0f360c77",
        "colab": {
          "base_uri": "https://localhost:8080/"
        }
      },
      "execution_count": null,
      "outputs": [
        {
          "output_type": "stream",
          "name": "stdout",
          "text": [
            "\n",
            "📁 Contents of the fully extracted dataset:\n",
            "\n",
            "Parkinson DATASET/Extracted/test_data.txt\n",
            "Parkinson DATASET/Extracted/train_data.txt\n"
          ]
        }
      ]
    },
    {
      "cell_type": "markdown",
      "source": [
        "# Data Preprocessing"
      ],
      "metadata": {
        "id": "8MJNZV-bekwK"
      }
    },
    {
      "cell_type": "code",
      "source": [
        "samples_per_subject = 26\n",
        "num_features = 26\n",
        "\n",
        "train_path = \"Parkinson DATASET/Extracted/train_data.txt\"\n",
        "test_path = \"Parkinson DATASET/Extracted/test_data.txt\"\n"
      ],
      "metadata": {
        "id": "dn2pebt2P4vZ"
      },
      "execution_count": null,
      "outputs": []
    },
    {
      "cell_type": "code",
      "source": [
        "train_df = pd.read_csv(train_path, header=None)\n",
        "test_df = pd.read_csv(test_path, header=None)"
      ],
      "metadata": {
        "id": "GBIjJl1-P8SZ"
      },
      "execution_count": null,
      "outputs": []
    },
    {
      "cell_type": "code",
      "source": [
        "# Assign column names\n",
        "train_columns = ['subject_id'] + [f'f{i+1}' for i in range(num_features)] + ['UPDRS', 'class']\n",
        "test_columns  = ['subject_id'] + [f'f{i+1}' for i in range(num_features)] + ['UPDRS']  # No 'class' in test"
      ],
      "metadata": {
        "id": "FVQLaEx7Q1tm"
      },
      "execution_count": null,
      "outputs": []
    },
    {
      "cell_type": "code",
      "source": [
        "train_df.columns = train_columns\n",
        "test_df.columns = test_columns\n"
      ],
      "metadata": {
        "id": "6m6zu9OKlzSP"
      },
      "execution_count": null,
      "outputs": []
    },
    {
      "cell_type": "code",
      "source": [
        "print(\"Number of columns in the train dataset:\", train_df.shape[1])"
      ],
      "metadata": {
        "colab": {
          "base_uri": "https://localhost:8080/"
        },
        "id": "Dw5RGvR4QCVN",
        "outputId": "b15a64a8-6c9b-44e6-ca18-394f0f496d20"
      },
      "execution_count": null,
      "outputs": [
        {
          "output_type": "stream",
          "name": "stdout",
          "text": [
            "Number of columns in the train dataset: 29\n"
          ]
        }
      ]
    },
    {
      "cell_type": "code",
      "source": [
        "print(\"Current column names in train dataset:\", train_df.columns.tolist())"
      ],
      "metadata": {
        "colab": {
          "base_uri": "https://localhost:8080/"
        },
        "id": "SNmlGBRGSlmZ",
        "outputId": "477f036a-18c4-445a-be52-ab066282efb0"
      },
      "execution_count": null,
      "outputs": [
        {
          "output_type": "stream",
          "name": "stdout",
          "text": [
            "Current column names in train dataset: ['subject_id', 'f1', 'f2', 'f3', 'f4', 'f5', 'f6', 'f7', 'f8', 'f9', 'f10', 'f11', 'f12', 'f13', 'f14', 'f15', 'f16', 'f17', 'f18', 'f19', 'f20', 'f21', 'f22', 'f23', 'f24', 'f25', 'f26', 'UPDRS', 'class']\n"
          ]
        }
      ]
    },
    {
      "cell_type": "code",
      "source": [
        "print(\"Train shape:\", train_df.shape)\n",
        "print(\"Test shape :\", test_df.shape)\n"
      ],
      "metadata": {
        "colab": {
          "base_uri": "https://localhost:8080/"
        },
        "id": "Iw6-D7IyjIp5",
        "outputId": "1cbe1ae0-a5bb-4a0c-a963-2f620bc2d1b4"
      },
      "execution_count": null,
      "outputs": [
        {
          "output_type": "stream",
          "name": "stdout",
          "text": [
            "Train shape: (1040, 29)\n",
            "Test shape : (168, 28)\n"
          ]
        }
      ]
    },
    {
      "cell_type": "code",
      "source": [
        "# Convert datatypes\n",
        "train_df['subject_id'] = train_df['subject_id'].astype(int)\n",
        "train_df['UPDRS'] = train_df['UPDRS'].astype(float)\n",
        "train_df['class'] = train_df['class'].astype(int)\n",
        "\n",
        "test_df['subject_id'] = test_df['subject_id'].astype(int)\n",
        "test_df['UPDRS'] = test_df['UPDRS'].astype(float)\n"
      ],
      "metadata": {
        "id": "csoaGIbRVzYZ"
      },
      "execution_count": null,
      "outputs": []
    },
    {
      "cell_type": "code",
      "source": [
        "#Trim to full subjects\n",
        "def trim_df(df):\n",
        "    trim_len = (df.shape[0] // samples_per_subject) * samples_per_subject\n",
        "    return df.iloc[:trim_len]\n",
        "\n",
        "train_df = trim_df(train_df)\n",
        "test_df = trim_df(test_df)\n",
        "\n",
        "#Prepare Features and Scale\n",
        "scaler = StandardScaler()\n",
        "\n",
        "X_train = train_df[[f'f{i+1}' for i in range(num_features)]].values\n",
        "X_test  = test_df[[f'f{i+1}' for i in range(num_features)]].values\n",
        "\n",
        "X_train_scaled = scaler.fit_transform(X_train)\n",
        "X_test_scaled  = scaler.transform(X_test)\n",
        "\n",
        "#Reshape for LSTM\n",
        "num_train_subjects = train_df.shape[0] // samples_per_subject\n",
        "num_test_subjects  = test_df.shape[0] // samples_per_subject\n",
        "\n",
        "X_train_seq = X_train_scaled.reshape(num_train_subjects, samples_per_subject, num_features)\n",
        "X_test_seq  = X_test_scaled.reshape(num_test_subjects, samples_per_subject, num_features)\n",
        "\n",
        "#Prepare Targets\n",
        "y_train_class = train_df['class'].values[::samples_per_subject]\n",
        "y_train_updrs = train_df['UPDRS'].values[::samples_per_subject]\n",
        "y_test_updrs  = test_df['UPDRS'].values[::samples_per_subject]\n"
      ],
      "metadata": {
        "id": "j10u8bYli-RY"
      },
      "execution_count": null,
      "outputs": []
    },
    {
      "cell_type": "code",
      "source": [
        "print(\"Preprocessing Complete:\")\n",
        "print(\"X_train_seq:\", X_train_seq.shape)\n",
        "print(\"X_test_seq :\", X_test_seq.shape)\n",
        "print(\"y_train_class:\", y_train_class.shape)\n",
        "print(\"y_train_updrs :\", y_train_updrs.shape)\n",
        "print(\"y_test_updrs  :\", y_test_updrs.shape)\n"
      ],
      "metadata": {
        "colab": {
          "base_uri": "https://localhost:8080/"
        },
        "id": "qa_uyZS2mciG",
        "outputId": "f92fdc07-8005-4195-cdb2-de80878453c5"
      },
      "execution_count": null,
      "outputs": [
        {
          "output_type": "stream",
          "name": "stdout",
          "text": [
            "Preprocessing Complete:\n",
            "X_train_seq: (40, 26, 26)\n",
            "X_test_seq : (6, 26, 26)\n",
            "y_train_class: (40,)\n",
            "y_train_updrs : (40,)\n",
            "y_test_updrs  : (6,)\n"
          ]
        }
      ]
    },
    {
      "cell_type": "markdown",
      "source": [
        "# Models Building"
      ],
      "metadata": {
        "id": "1iKNQVH4WjCI"
      }
    },
    {
      "cell_type": "code",
      "source": [
        "from tensorflow.keras.optimizers import Adam\n"
      ],
      "metadata": {
        "id": "y3Kr3hRwtQZh"
      },
      "execution_count": null,
      "outputs": []
    },
    {
      "cell_type": "code",
      "source": [
        "from tensorflow.keras.regularizers import l2\n"
      ],
      "metadata": {
        "id": "SayQMykItTlY"
      },
      "execution_count": null,
      "outputs": []
    },
    {
      "cell_type": "code",
      "source": [
        "def compile_and_train_lstm(model, X_train, y_train, X_val, y_val, task='classification'):\n",
        "    optimizer = Adam(learning_rate=0.0003)\n",
        "    model.compile(\n",
        "        loss='sparse_categorical_crossentropy' if task == 'classification' else 'mse',\n",
        "        optimizer=optimizer,\n",
        "        metrics=['accuracy'] if task == 'classification' else ['mae']\n",
        "    )\n",
        "    early_stop = EarlyStopping(patience=8, restore_best_weights=True)\n",
        "    lr_reduce = ReduceLROnPlateau(factor=0.4, patience=4, verbose=1)\n",
        "    batch_size = 64 if task == 'classification' else 8\n",
        "\n",
        "    history = model.fit(\n",
        "        X_train, y_train,\n",
        "        validation_data=(X_val, y_val),\n",
        "        epochs=80,\n",
        "        batch_size=batch_size,\n",
        "        callbacks=[early_stop, lr_reduce],\n",
        "        verbose=0\n",
        "    )\n",
        "    return model, history\n"
      ],
      "metadata": {
        "id": "Bkg8Isfv2sgR"
      },
      "execution_count": null,
      "outputs": []
    },
    {
      "cell_type": "code",
      "source": [
        "def compile_and_train_gru(model, X_train, y_train, X_val, y_val, task='classification'):\n",
        "    optimizer = Adam(learning_rate=0.0005)\n",
        "    model.compile(\n",
        "        loss='sparse_categorical_crossentropy' if task == 'classification' else 'mse',\n",
        "        optimizer=optimizer,\n",
        "        metrics=['accuracy'] if task == 'classification' else ['mae']\n",
        "    )\n",
        "    early_stop = EarlyStopping(patience=10, restore_best_weights=True)\n",
        "    lr_reduce = ReduceLROnPlateau(factor=0.5, patience=5, verbose=1)\n",
        "    batch_size = 64 if task == 'classification' else 8\n",
        "\n",
        "    history = model.fit(\n",
        "        X_train, y_train,\n",
        "        validation_data=(X_val, y_val),\n",
        "        epochs=100,\n",
        "        batch_size=batch_size,\n",
        "        callbacks=[early_stop, lr_reduce],\n",
        "        verbose=0\n",
        "    )\n",
        "    return model, history\n"
      ],
      "metadata": {
        "id": "CAslkxlS2sqL"
      },
      "execution_count": null,
      "outputs": []
    },
    {
      "cell_type": "code",
      "source": [
        "def compile_and_train_bilstm(model, X_train, y_train, X_val, y_val, task='classification'):\n",
        "    optimizer = Adam(learning_rate=0.0004)\n",
        "    model.compile(\n",
        "        loss='sparse_categorical_crossentropy' if task == 'classification' else 'mse',\n",
        "        optimizer=optimizer,\n",
        "        metrics=['accuracy'] if task == 'classification' else ['mae']\n",
        "    )\n",
        "    early_stop = EarlyStopping(patience=9, restore_best_weights=True)\n",
        "    lr_reduce = ReduceLROnPlateau(factor=0.6, patience=4, verbose=1)\n",
        "    batch_size = 64 if task == 'classification' else 8\n",
        "\n",
        "    history = model.fit(\n",
        "        X_train, y_train,\n",
        "        validation_data=(X_val, y_val),\n",
        "        epochs=90,\n",
        "        batch_size=batch_size,\n",
        "        callbacks=[early_stop, lr_reduce],\n",
        "        verbose=0\n",
        "    )\n",
        "    return model, history\n"
      ],
      "metadata": {
        "id": "bimkLZai2s02"
      },
      "execution_count": null,
      "outputs": []
    },
    {
      "cell_type": "code",
      "source": [
        "import tensorflow as tf\n",
        "from tensorflow.keras.callbacks import ReduceLROnPlateau\n",
        "from tensorflow.keras.models import Sequential\n",
        "from tensorflow.keras.layers import LSTM, GRU, SimpleRNN, Bidirectional, Dense, Dropout, Conv1D, GlobalAveragePooling1D, BatchNormalization\n",
        "from tensorflow.keras.callbacks import EarlyStopping\n",
        "\n",
        "def compile_and_train_rnn(model, X_train, y_train, X_val, y_val, task='classification'):\n",
        "    optimizer = Adam(learning_rate=0.0005)\n",
        "\n",
        "    model.compile(\n",
        "        loss='sparse_categorical_crossentropy' if task == 'classification' else 'mse',\n",
        "        optimizer=optimizer,\n",
        "        metrics=['accuracy'] if task == 'classification' else ['mae']\n",
        "    )\n",
        "\n",
        "    early_stop = EarlyStopping(patience=10, restore_best_weights=True)\n",
        "    lr_reduce = ReduceLROnPlateau(factor=0.5, patience=5, verbose=1)\n",
        "    batch_size = 128 if task == 'classification' else 8\n",
        "\n",
        "    history = model.fit(\n",
        "        X_train, y_train,\n",
        "        validation_data=(X_val, y_val),\n",
        "        epochs=100,\n",
        "        batch_size=batch_size,\n",
        "        callbacks=[early_stop, lr_reduce],\n",
        "        verbose=0\n",
        "    )\n",
        "    return model, history"
      ],
      "metadata": {
        "id": "6rKGCKqxXTZT"
      },
      "execution_count": null,
      "outputs": []
    },
    {
      "cell_type": "code",
      "source": [
        "def compile_and_train_densenet(model, X_train, y_train, X_val, y_val, task='classification'):\n",
        "    optimizer = Adam(learning_rate=0.0005)\n",
        "    model.compile(\n",
        "        loss='sparse_categorical_crossentropy' if task == 'classification' else 'mse',\n",
        "        optimizer=optimizer,\n",
        "        metrics=['accuracy'] if task == 'classification' else ['mae']\n",
        "    )\n",
        "    early_stop = EarlyStopping(patience=10, restore_best_weights=True)\n",
        "    lr_reduce = ReduceLROnPlateau(factor=0.5, patience=4, verbose=1)\n",
        "    batch_size = 128 if task == 'classification' else 8\n",
        "\n",
        "    history = model.fit(\n",
        "        X_train, y_train,\n",
        "        validation_data=(X_val, y_val),\n",
        "        epochs=100,\n",
        "        batch_size=batch_size,\n",
        "        callbacks=[early_stop, lr_reduce],\n",
        "        verbose=0\n",
        "    )\n",
        "    return model, history\n"
      ],
      "metadata": {
        "id": "vG8b4ruC206U"
      },
      "execution_count": null,
      "outputs": []
    },
    {
      "cell_type": "code",
      "source": [
        "\n",
        "from tensorflow.keras.layers import LayerNormalization\n",
        "def build_lstm(input_shape, task='classification'):\n",
        "    model = Sequential([\n",
        "        Bidirectional(LSTM(128, return_sequences=False), input_shape=input_shape),\n",
        "        LayerNormalization(),\n",
        "        Dense(128, activation='relu', kernel_regularizer=l2(1e-4)),\n",
        "        Dropout(0.3),\n",
        "        Dense(2 if task == 'classification' else 1, activation='softmax' if task == 'classification' else 'linear')\n",
        "    ])\n",
        "    return model\n",
        "\n",
        "def build_gru(input_shape, task='classification'):\n",
        "    model = Sequential([\n",
        "        Bidirectional(GRU(128), input_shape=input_shape),\n",
        "        Dropout(0.5),\n",
        "        BatchNormalization(),\n",
        "        Dense(128, activation='relu', kernel_regularizer=regularizers.l2(1e-4)),\n",
        "        Dropout(0.3),\n",
        "        Dense(2 if task == 'classification' else 1, activation='softmax' if task == 'classification' else 'linear')\n",
        "    ])\n",
        "    return model\n",
        "\n",
        "\n",
        "def build_bilstm(input_shape, task='classification'):\n",
        "    model = Sequential([\n",
        "        Bidirectional(LSTM(128), input_shape=input_shape),\n",
        "        Dropout(0.3),\n",
        "        BatchNormalization(),\n",
        "        Dense(128, activation='relu', kernel_regularizer=regularizers.l2(1e-4)),\n",
        "        Dense(2 if task == 'classification' else 1, activation='softmax' if task == 'classification' else 'linear')\n",
        "    ])\n",
        "    return model\n",
        "\n",
        "def build_rnn(input_shape, task='classification'):\n",
        "    model = Sequential([\n",
        "        SimpleRNN(128, return_sequences=True, dropout=0.3, recurrent_dropout=0.2, input_shape=input_shape),\n",
        "        BatchNormalization(),\n",
        "        SimpleRNN(64, dropout=0.3, recurrent_dropout=0.2),\n",
        "        BatchNormalization(),\n",
        "        Dense(128, activation='relu', kernel_regularizer=l2(1e-4)),\n",
        "        Dropout(0.4),\n",
        "        Dense(64, activation='relu', kernel_regularizer=l2(1e-4)),\n",
        "        Dropout(0.3),\n",
        "        Dense(2 if task == 'classification' else 1, activation='softmax' if task == 'classification' else 'linear')\n",
        "    ])\n",
        "    return model\n",
        "\n",
        "\n",
        "def build_densenet_1d(input_shape, task='classification'):\n",
        "    model = Sequential([\n",
        "        Conv1D(128, 3, padding='same', activation='relu', input_shape=input_shape),\n",
        "        BatchNormalization(),\n",
        "        Conv1D(256, 3, padding='same', activation='relu'),\n",
        "        BatchNormalization(),\n",
        "        Conv1D(512, 3, padding='same', activation='relu'),\n",
        "        GlobalAveragePooling1D(),\n",
        "        Dropout(0.5),\n",
        "        Dense(128, activation='relu', kernel_regularizer=regularizers.l2(1e-4)),\n",
        "        Dropout(0.3),\n",
        "        Dense(2 if task == 'classification' else 1, activation='softmax' if task == 'classification' else 'linear')\n",
        "    ])\n",
        "    return model\n",
        "\n"
      ],
      "metadata": {
        "id": "KNTWPW34XiRg"
      },
      "execution_count": null,
      "outputs": []
    },
    {
      "cell_type": "code",
      "source": [
        "from sklearn.model_selection import train_test_split\n",
        "\n",
        "# Classification\n",
        "X_tr_cls, X_val_cls, y_tr_cls, y_val_cls = train_test_split(X_train_seq, y_train_class, test_size=0.2, random_state=42)\n",
        "\n",
        "# Regression\n",
        "X_tr_reg, X_val_reg, y_tr_reg, y_val_reg = train_test_split(X_train_seq, y_train_updrs, test_size=0.2, random_state=42)\n"
      ],
      "metadata": {
        "id": "hVxIWsTTXkUc"
      },
      "execution_count": null,
      "outputs": []
    },
    {
      "cell_type": "code",
      "source": [
        "train_funcs = {\n",
        "    'LSTM': compile_and_train_lstm,\n",
        "    'GRU': compile_and_train_gru,\n",
        "    'BiLSTM': compile_and_train_bilstm,\n",
        "    'SimpleRNN': compile_and_train_rnn,\n",
        "    'DenseNet1D': compile_and_train_densenet\n",
        "}\n",
        "\n",
        "results = {}\n",
        "\n",
        "for name, builder in models.items():\n",
        "    print(f\"\\nTraining {name} for classification...\")\n",
        "    model_cls = builder(input_shape=(26, 26), task='classification')\n",
        "    model_cls, _ = train_funcs[name](model_cls, X_tr_cls, y_tr_cls, X_val_cls, y_val_cls, task='classification')\n",
        "    cls_eval = model_cls.evaluate(X_train_seq, y_train_class, verbose=0)\n",
        "\n",
        "    print(f\"Training {name} for regression...\")\n",
        "    model_reg = builder(input_shape=(26, 26), task='regression')\n",
        "    model_reg, _ = train_funcs[name](model_reg, X_tr_reg, y_tr_reg, X_val_reg, y_val_reg, task='regression')\n",
        "    reg_eval = model_reg.evaluate(X_train_seq, y_train_updrs, verbose=0)\n",
        "\n",
        "    results[name] = {\n",
        "        'classification': {'loss': cls_eval[0], 'accuracy': cls_eval[1]},\n",
        "        'regression': {'loss': reg_eval[0], 'mae': reg_eval[1]}\n",
        "    }\n",
        "\n",
        "# Final results\n",
        "for name, res in results.items():\n",
        "    print(f\"\\n{name} Results:\")\n",
        "    print(f\"  Classification - Loss: {res['classification']['loss']:.4f}, Accuracy: {res['classification']['accuracy']:.4f}\")\n",
        "    print(f\"  Regression     - Loss: {res['regression']['loss']:.4f}, MAE: {res['regression']['mae']:.4f}\")\n"
      ],
      "metadata": {
        "colab": {
          "base_uri": "https://localhost:8080/"
        },
        "id": "VaAh2NvBXmZb",
        "outputId": "5b4b46a6-d3e2-40b6-e7fd-c99eb60e1357"
      },
      "execution_count": null,
      "outputs": [
        {
          "output_type": "stream",
          "name": "stdout",
          "text": [
            "\n",
            "Training LSTM for classification...\n"
          ]
        },
        {
          "output_type": "stream",
          "name": "stderr",
          "text": [
            "/usr/local/lib/python3.11/dist-packages/keras/src/layers/rnn/bidirectional.py:107: UserWarning: Do not pass an `input_shape`/`input_dim` argument to a layer. When using Sequential models, prefer using an `Input(shape)` object as the first layer in the model instead.\n",
            "  super().__init__(**kwargs)\n"
          ]
        },
        {
          "output_type": "stream",
          "name": "stdout",
          "text": [
            "\n",
            "Epoch 12: ReduceLROnPlateau reducing learning rate to 0.00012000000569969416.\n",
            "\n",
            "Epoch 16: ReduceLROnPlateau reducing learning rate to 4.8000001697801054e-05.\n",
            "Training LSTM for regression...\n",
            "\n",
            "Epoch 14: ReduceLROnPlateau reducing learning rate to 0.00012000000569969416.\n",
            "\n",
            "Epoch 18: ReduceLROnPlateau reducing learning rate to 4.8000001697801054e-05.\n",
            "\n",
            "Training GRU for classification...\n",
            "\n",
            "Epoch 24: ReduceLROnPlateau reducing learning rate to 0.0002500000118743628.\n",
            "\n",
            "Epoch 29: ReduceLROnPlateau reducing learning rate to 0.0001250000059371814.\n",
            "Training GRU for regression...\n",
            "\n",
            "Epoch 35: ReduceLROnPlateau reducing learning rate to 0.0002500000118743628.\n",
            "\n",
            "Epoch 40: ReduceLROnPlateau reducing learning rate to 0.0001250000059371814.\n",
            "\n",
            "Training BiLSTM for classification...\n",
            "\n",
            "Epoch 19: ReduceLROnPlateau reducing learning rate to 0.00023999999393709004.\n",
            "\n",
            "Epoch 23: ReduceLROnPlateau reducing learning rate to 0.00014399999636225403.\n",
            "Training BiLSTM for regression...\n",
            "\n",
            "Epoch 25: ReduceLROnPlateau reducing learning rate to 0.00023999999393709004.\n",
            "\n",
            "Epoch 29: ReduceLROnPlateau reducing learning rate to 0.00014399999636225403.\n",
            "\n",
            "Training SimpleRNN for classification...\n"
          ]
        },
        {
          "output_type": "stream",
          "name": "stderr",
          "text": [
            "/usr/local/lib/python3.11/dist-packages/keras/src/layers/rnn/rnn.py:200: UserWarning: Do not pass an `input_shape`/`input_dim` argument to a layer. When using Sequential models, prefer using an `Input(shape)` object as the first layer in the model instead.\n",
            "  super().__init__(**kwargs)\n"
          ]
        },
        {
          "output_type": "stream",
          "name": "stdout",
          "text": [
            "\n",
            "Epoch 25: ReduceLROnPlateau reducing learning rate to 0.0002500000118743628.\n",
            "\n",
            "Epoch 30: ReduceLROnPlateau reducing learning rate to 0.0001250000059371814.\n",
            "Training SimpleRNN for regression...\n",
            "\n",
            "Epoch 32: ReduceLROnPlateau reducing learning rate to 0.0002500000118743628.\n",
            "\n",
            "Epoch 37: ReduceLROnPlateau reducing learning rate to 0.0001250000059371814.\n",
            "\n",
            "Training DenseNet1D for classification...\n"
          ]
        },
        {
          "output_type": "stream",
          "name": "stderr",
          "text": [
            "/usr/local/lib/python3.11/dist-packages/keras/src/layers/convolutional/base_conv.py:107: UserWarning: Do not pass an `input_shape`/`input_dim` argument to a layer. When using Sequential models, prefer using an `Input(shape)` object as the first layer in the model instead.\n",
            "  super().__init__(activity_regularizer=activity_regularizer, **kwargs)\n"
          ]
        },
        {
          "output_type": "stream",
          "name": "stdout",
          "text": [
            "\n",
            "Epoch 5: ReduceLROnPlateau reducing learning rate to 0.0002500000118743628.\n",
            "\n",
            "Epoch 9: ReduceLROnPlateau reducing learning rate to 0.0001250000059371814.\n",
            "Training DenseNet1D for regression...\n",
            "\n",
            "Epoch 9: ReduceLROnPlateau reducing learning rate to 0.0002500000118743628.\n",
            "\n",
            "Epoch 13: ReduceLROnPlateau reducing learning rate to 0.0001250000059371814.\n",
            "\n",
            "LSTM Results:\n",
            "  Classification - Loss: 0.4795, Accuracy: 0.7000\n",
            "  Regression     - Loss: 239.7661, MAE: 11.1697\n",
            "\n",
            "GRU Results:\n",
            "  Classification - Loss: 0.5420, Accuracy: 0.8000\n",
            "  Regression     - Loss: 204.4392, MAE: 8.8119\n",
            "\n",
            "BiLSTM Results:\n",
            "  Classification - Loss: 0.5481, Accuracy: 0.7250\n",
            "  Regression     - Loss: 289.8911, MAE: 10.2661\n",
            "\n",
            "SimpleRNN Results:\n",
            "  Classification - Loss: 0.4371, Accuracy: 0.8750\n",
            "  Regression     - Loss: 268.8399, MAE: 10.7693\n",
            "\n",
            "DenseNet1D Results:\n",
            "  Classification - Loss: 0.6957, Accuracy: 0.6250\n",
            "  Regression     - Loss: 365.9513, MAE: 11.8891\n"
          ]
        }
      ]
    },
    {
      "cell_type": "code",
      "source": [
        "for name, res in results.items():\n",
        "    print(f\"\\n{name} Results:\")\n",
        "    print(f\"  Classification - Loss: {res['classification']['loss']:.4f}, Accuracy: {res['classification']['accuracy']:.4f}\")\n",
        "    print(f\"  Regression     - Loss: {res['regression']['loss']:.4f}, MAE: {res['regression']['mae']:.4f}\")\n",
        "\n",
        "# Prepare data for plotting\n",
        "classification_losses = []\n",
        "classification_accuracies = []\n",
        "regression_losses = []\n",
        "regression_maes = []\n",
        "model_names = []\n",
        "\n",
        "for name, res in results.items():\n",
        "    model_names.append(name)\n",
        "    classification_losses.append(res['classification']['loss'])\n",
        "    classification_accuracies.append(res['classification']['accuracy'])\n",
        "    regression_losses.append(res['regression']['loss'])\n",
        "    regression_maes.append(res['regression']['mae'])\n",
        "\n",
        "# Plotting Classification Loss and Accuracy\n",
        "fig, axes = plt.subplots(1, 2, figsize=(14, 6))\n",
        "\n",
        "# Classification Loss\n",
        "axes[0].bar(model_names, classification_losses, color='red')\n",
        "axes[0].set_title('Classification Loss')\n",
        "axes[0].set_xlabel('Models')\n",
        "axes[0].set_ylabel('Loss')\n",
        "\n",
        "# Classification Accuracy\n",
        "axes[1].bar(model_names, classification_accuracies, color='blue')\n",
        "axes[1].set_title('Classification Accuracy')\n",
        "axes[1].set_xlabel('Models')\n",
        "axes[1].set_ylabel('Accuracy')\n",
        "\n",
        "plt.tight_layout()\n",
        "plt.show()\n",
        "\n",
        "# Plotting Regression Loss and MAE\n",
        "fig, axes = plt.subplots(1, 2, figsize=(14, 6))\n",
        "\n",
        "# Regression Loss\n",
        "axes[0].bar(model_names, regression_losses, color='orange')\n",
        "axes[0].set_title('Regression Loss')\n",
        "axes[0].set_xlabel('Models')\n",
        "axes[0].set_ylabel('Loss')\n",
        "\n",
        "# Regression MAE\n",
        "axes[1].bar(model_names, regression_maes, color='green')\n",
        "axes[1].set_title('Regression MAE')\n",
        "axes[1].set_xlabel('Models')\n",
        "axes[1].set_ylabel('MAE')\n",
        "\n",
        "plt.tight_layout()\n",
        "plt.show()"
      ],
      "metadata": {
        "colab": {
          "base_uri": "https://localhost:8080/",
          "height": 1000
        },
        "id": "7vvrqDgWbyw2",
        "outputId": "c3cb1d08-4f9e-48b0-90d1-1779fa982d16"
      },
      "execution_count": null,
      "outputs": [
        {
          "output_type": "stream",
          "name": "stdout",
          "text": [
            "\n",
            "LSTM Results:\n",
            "  Classification - Loss: 0.4795, Accuracy: 0.7000\n",
            "  Regression     - Loss: 239.7661, MAE: 11.1697\n",
            "\n",
            "GRU Results:\n",
            "  Classification - Loss: 0.5420, Accuracy: 0.8000\n",
            "  Regression     - Loss: 204.4392, MAE: 8.8119\n",
            "\n",
            "BiLSTM Results:\n",
            "  Classification - Loss: 0.5481, Accuracy: 0.7250\n",
            "  Regression     - Loss: 289.8911, MAE: 10.2661\n",
            "\n",
            "SimpleRNN Results:\n",
            "  Classification - Loss: 0.4371, Accuracy: 0.8750\n",
            "  Regression     - Loss: 268.8399, MAE: 10.7693\n",
            "\n",
            "DenseNet1D Results:\n",
            "  Classification - Loss: 0.6957, Accuracy: 0.6250\n",
            "  Regression     - Loss: 365.9513, MAE: 11.8891\n"
          ]
        },
        {
          "output_type": "display_data",
          "data": {
            "text/plain": [
              "<Figure size 1400x600 with 2 Axes>"
            ],
            "image/png": "[encoded data removed]"
          },
          "metadata": {}
        },
        {
          "output_type": "display_data",
          "data": {
            "text/plain": [
              "<Figure size 1400x600 with 2 Axes>"
            ],
            "image/png": "[encoded data removed]"
          },
          "metadata": {}
        }
      ]
    },
    {
      "cell_type": "code",
      "source": [
        "from sklearn.metrics import classification_report, confusion_matrix, ConfusionMatrixDisplay\n",
        "\n",
        "# Predict labels\n",
        "y_pred_cls = model_cls.predict(X_val_cls).argmax(axis=1)\n",
        "\n",
        "# Evaluation\n",
        "print(classification_report(y_val_cls, y_pred_cls))\n",
        "ConfusionMatrixDisplay.from_predictions(y_val_cls, y_pred_cls)\n"
      ],
      "metadata": {
        "id": "Ibd6_J8aemtg",
        "colab": {
          "base_uri": "https://localhost:8080/",
          "height": 642
        },
        "outputId": "654cc6a2-7288-4145-aa15-0eb5f8747d21"
      },
      "execution_count": null,
      "outputs": [
        {
          "output_type": "stream",
          "name": "stdout",
          "text": [
            "\u001b[1m1/1\u001b[0m \u001b[32m━━━━━━━━━━━━━━━━━━━━\u001b[0m\u001b[37m\u001b[0m \u001b[1m0s\u001b[0m 220ms/step\n",
            "              precision    recall  f1-score   support\n",
            "\n",
            "           0       0.50      0.67      0.57         3\n",
            "           1       0.75      0.60      0.67         5\n",
            "\n",
            "    accuracy                           0.62         8\n",
            "   macro avg       0.62      0.63      0.62         8\n",
            "weighted avg       0.66      0.62      0.63         8\n",
            "\n"
          ]
        },
        {
          "output_type": "execute_result",
          "data": {
            "text/plain": [
              "<sklearn.metrics._plot.confusion_matrix.ConfusionMatrixDisplay at 0x7d0c7c0421d0>"
            ]
          },
          "metadata": {},
          "execution_count": 194
        },
        {
          "output_type": "display_data",
          "data": {
            "text/plain": [
              "<Figure size 640x480 with 2 Axes>"
            ],
            "image/png": "[encoded data removed]"
          },
          "metadata": {}
        }
      ]
    },
    {
      "cell_type": "code",
      "source": [
        "from sklearn.metrics import mean_absolute_error, mean_squared_error, r2_score\n",
        "import numpy as np\n",
        "\n",
        "y_pred_reg = model_reg.predict(X_val_reg).flatten()\n",
        "\n",
        "mae = mean_absolute_error(y_val_reg, y_pred_reg)\n",
        "rmse = np.sqrt(mean_squared_error(y_val_reg, y_pred_reg))\n",
        "r2 = r2_score(y_val_reg, y_pred_reg)\n",
        "\n",
        "print(f\"MAE: {mae:.4f}, RMSE: {rmse:.4f}, R²: {r2:.4f}\")\n"
      ],
      "metadata": {
        "colab": {
          "base_uri": "https://localhost:8080/"
        },
        "id": "hkrTr-9zNJaw",
        "outputId": "e054852c-f411-4ce7-b3ce-76254cb2a974"
      },
      "execution_count": null,
      "outputs": [
        {
          "output_type": "stream",
          "name": "stdout",
          "text": [
            "\u001b[1m1/1\u001b[0m \u001b[32m━━━━━━━━━━━━━━━━━━━━\u001b[0m\u001b[37m\u001b[0m \u001b[1m0s\u001b[0m 209ms/step\n",
            "MAE: 17.5607, RMSE: 26.3760, R²: -0.7306\n"
          ]
        }
      ]
    },
    {
      "cell_type": "code",
      "source": [
        "from sklearn.metrics import mean_absolute_error, mean_squared_error, r2_score\n",
        "\n",
        "y_pred_reg = model_reg.predict(X_test_seq).flatten()\n",
        "\n",
        "mae = mean_absolute_error(y_test_updrs, y_pred_reg)\n",
        "mse = mean_squared_error(y_test_updrs, y_pred_reg)\n",
        "r2 = r2_score(y_test_updrs, y_pred_reg)\n",
        "\n",
        "print(\"Regression Evaluation on Test Data\")\n",
        "print(f\"MAE: {mae:.4f}\")\n",
        "print(f\"MSE: {mse:.4f}\")\n",
        "print(f\"R²: {r2:.4f}\")\n"
      ],
      "metadata": {
        "colab": {
          "base_uri": "https://localhost:8080/"
        },
        "id": "hHjShWaXYpiV",
        "outputId": "f48572be-027f-4903-f93d-73201dd44f15"
      },
      "execution_count": null,
      "outputs": [
        {
          "output_type": "stream",
          "name": "stdout",
          "text": [
            "\u001b[1m1/1\u001b[0m \u001b[32m━━━━━━━━━━━━━━━━━━━━\u001b[0m\u001b[37m\u001b[0m \u001b[1m0s\u001b[0m 238ms/step\n",
            "Regression Evaluation on Test Data\n",
            "MAE: 0.3719\n",
            "MSE: 0.1426\n",
            "R²: 0.0000\n"
          ]
        }
      ]
    },
    {
      "cell_type": "code",
      "source": [
        "y_val_pred = model_cls.predict(X_val_cls)\n",
        "y_val_pred_cls = np.argmax(y_val_pred, axis=1)\n",
        "\n",
        "print(classification_report(y_val_cls, y_val_pred_cls, target_names=['Healthy', 'Parkinson']))\n"
      ],
      "metadata": {
        "colab": {
          "base_uri": "https://localhost:8080/"
        },
        "id": "VKWgg0ujbgHS",
        "outputId": "1f33cd29-24ef-4be6-9d6a-78ddc243b5cb"
      },
      "execution_count": null,
      "outputs": [
        {
          "output_type": "stream",
          "name": "stdout",
          "text": [
            "\u001b[1m1/1\u001b[0m \u001b[32m━━━━━━━━━━━━━━━━━━━━\u001b[0m\u001b[37m\u001b[0m \u001b[1m0s\u001b[0m 63ms/step\n",
            "              precision    recall  f1-score   support\n",
            "\n",
            "     Healthy       0.50      0.67      0.57         3\n",
            "   Parkinson       0.75      0.60      0.67         5\n",
            "\n",
            "    accuracy                           0.62         8\n",
            "   macro avg       0.62      0.63      0.62         8\n",
            "weighted avg       0.66      0.62      0.63         8\n",
            "\n"
          ]
        }
      ]
    },
    {
      "cell_type": "code",
      "source": [
        "model_cls, history_cls = compile_and_train_lstm(model_cls, X_tr_cls, y_tr_cls, X_val_cls, y_val_cls, task='classification')\n"
      ],
      "metadata": {
        "colab": {
          "base_uri": "https://localhost:8080/"
        },
        "id": "J9EkLTXOcP9v",
        "outputId": "fa696678-7f9d-4e10-e90b-5d7c9ca6eb4d"
      },
      "execution_count": null,
      "outputs": [
        {
          "output_type": "stream",
          "name": "stdout",
          "text": [
            "\n",
            "Epoch 39: ReduceLROnPlateau reducing learning rate to 0.00012000000569969416.\n",
            "\n",
            "Epoch 43: ReduceLROnPlateau reducing learning rate to 4.8000001697801054e-05.\n"
          ]
        }
      ]
    },
    {
      "cell_type": "code",
      "source": [
        "plot_history(history_cls, task='classification')\n"
      ],
      "metadata": {
        "colab": {
          "base_uri": "https://localhost:8080/",
          "height": 407
        },
        "id": "8FrV5ap8cUb8",
        "outputId": "3697b1c1-ea20-44e3-f029-2aba260dd563"
      },
      "execution_count": null,
      "outputs": [
        {
          "output_type": "display_data",
          "data": {
            "text/plain": [
              "<Figure size 1200x400 with 2 Axes>"
            ],
            "image/png": "[encoded data removed]"
          },
          "metadata": {}
        }
      ]
    }
  ]
}